{
 "cells": [
  {
   "cell_type": "code",
   "execution_count": 3,
   "metadata": {},
   "outputs": [],
   "source": [
    "import pandas as pd\n",
    "from sklearn.linear_model import LinearRegression\n",
    "from sklearn.metrics import mean_squared_error"
   ]
  },
  {
   "cell_type": "code",
   "execution_count": 4,
   "metadata": {},
   "outputs": [],
   "source": [
    "# read the train and test dataset\n",
    "train_data = pd.read_csv('train.csv')\n",
    "test_data = pd.read_csv('test.csv')"
   ]
  },
  {
   "cell_type": "code",
   "execution_count": 16,
   "metadata": {},
   "outputs": [
    {
     "name": "stdout",
     "output_type": "stream",
     "text": [
      "Index(['Item_Weight', 'Item_Visibility', 'Item_MRP',\n",
      "       'Outlet_Establishment_Year', 'Item_Outlet_Sales', 'Item_Fat_Content_LF',\n",
      "       'Item_Fat_Content_Low Fat', 'Item_Fat_Content_Regular',\n",
      "       'Item_Fat_Content_low fat', 'Item_Fat_Content_reg',\n",
      "       'Item_Type_Baking Goods', 'Item_Type_Breads', 'Item_Type_Breakfast',\n",
      "       'Item_Type_Canned', 'Item_Type_Dairy', 'Item_Type_Frozen Foods',\n",
      "       'Item_Type_Fruits and Vegetables', 'Item_Type_Hard Drinks',\n",
      "       'Item_Type_Health and Hygiene', 'Item_Type_Household', 'Item_Type_Meat',\n",
      "       'Item_Type_Others', 'Item_Type_Seafood', 'Item_Type_Snack Foods',\n",
      "       'Item_Type_Soft Drinks', 'Item_Type_Starchy Foods', 'Outlet_Size_High',\n",
      "       'Outlet_Size_Medium', 'Outlet_Size_Small',\n",
      "       'Outlet_Location_Type_Tier 1', 'Outlet_Location_Type_Tier 2',\n",
      "       'Outlet_Location_Type_Tier 3', 'Outlet_Type_Grocery Store',\n",
      "       'Outlet_Type_Supermarket Type1', 'Outlet_Type_Supermarket Type2',\n",
      "       'Outlet_Type_Supermarket Type3'],\n",
      "      dtype='object')\n",
      "Train data shape (1364, 36)\n",
      "Test data shape (341, 36)\n"
     ]
    }
   ],
   "source": [
    "print(train_data.columns)\n",
    "#print (train_data.head())\n",
    "print (\"Train data shape\", train_data.shape)\n",
    "print (\"Test data shape\", test_data.shape)"
   ]
  },
  {
   "cell_type": "code",
   "execution_count": 17,
   "metadata": {},
   "outputs": [],
   "source": [
    "# Now, we need to predict the missing target variable in the test data\n",
    "\n",
    "# target variable - Item_Outlet_Sales"
   ]
  },
  {
   "cell_type": "code",
   "execution_count": 18,
   "metadata": {},
   "outputs": [],
   "source": [
    "# seperate the independent and target variable on training data\n",
    "train_x = train_data.drop(columns=['Item_Outlet_Sales'],axis=1)\n",
    "train_y = train_data['Item_Outlet_Sales']"
   ]
  },
  {
   "cell_type": "code",
   "execution_count": 20,
   "metadata": {},
   "outputs": [
    {
     "name": "stdout",
     "output_type": "stream",
     "text": [
      "(1364, 35)\n",
      "(1364,)\n"
     ]
    }
   ],
   "source": [
    "print(train_x.shape)\n",
    "print(train_y.shape)"
   ]
  },
  {
   "cell_type": "code",
   "execution_count": 26,
   "metadata": {},
   "outputs": [],
   "source": [
    "test_x=test_data.drop(columns=['Item_Outlet_Sales'],axis=1)\n",
    "test_y = train_data['Item_Outlet_Sales']"
   ]
  },
  {
   "cell_type": "code",
   "execution_count": null,
   "metadata": {},
   "outputs": [],
   "source": []
  }
 ],
 "metadata": {
  "kernelspec": {
   "display_name": "Python 3",
   "language": "python",
   "name": "python3"
  },
  "language_info": {
   "codemirror_mode": {
    "name": "ipython",
    "version": 3
   },
   "file_extension": ".py",
   "mimetype": "text/x-python",
   "name": "python",
   "nbconvert_exporter": "python",
   "pygments_lexer": "ipython3",
   "version": "3.7.3"
  }
 },
 "nbformat": 4,
 "nbformat_minor": 2
}
